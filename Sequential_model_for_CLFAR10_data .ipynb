{
  "nbformat": 4,
  "nbformat_minor": 0,
  "metadata": {
    "colab": {
      "provenance": []
    },
    "kernelspec": {
      "name": "python3",
      "display_name": "Python 3"
    },
    "language_info": {
      "name": "python"
    }
  },
  "cells": [
    {
      "cell_type": "code",
      "execution_count": 1,
      "metadata": {
        "id": "467rt2Rw429J"
      },
      "outputs": [],
      "source": [
        "\n",
        "import tensorflow as tf\n",
        "# tf.config.experimental_run_functions_eagerly(True)\n",
        "import tensorflow.keras as keras\n",
        "import tensorflow.keras.datasets.mnist as input_data\n",
        "from keras.datasets import cifar10\n",
        "import matplotlib.pyplot as plt\n",
        "import numpy as np\n",
        "from sklearn.model_selection import train_test_split\n",
        "from keras.utils import to_categorical\n",
        "from tensorflow.keras import layers\n",
        "\n",
        "from sklearn.metrics import f1_score\n",
        "from sklearn.metrics import roc_auc_score\n",
        "from sklearn.metrics import accuracy_score"
      ]
    },
    {
      "cell_type": "code",
      "source": [
        "mnist = cifar10.load_data()\n",
        "(x_train, y_train), (x_test, y_test) = mnist"
      ],
      "metadata": {
        "colab": {
          "base_uri": "https://localhost:8080/"
        },
        "id": "ds_yr6k347fl",
        "outputId": "ef0f58e7-18eb-4cee-c54a-14623c4304a4"
      },
      "execution_count": 2,
      "outputs": [
        {
          "output_type": "stream",
          "name": "stdout",
          "text": [
            "Downloading data from https://www.cs.toronto.edu/~kriz/cifar-10-python.tar.gz\n",
            "170498071/170498071 [==============================] - 4s 0us/step\n"
          ]
        }
      ]
    },
    {
      "cell_type": "code",
      "source": [
        "y_train"
      ],
      "metadata": {
        "colab": {
          "base_uri": "https://localhost:8080/"
        },
        "id": "BM7YhbGG47dI",
        "outputId": "d729d983-a7d9-482b-d2d6-6bd9940c1929"
      },
      "execution_count": 3,
      "outputs": [
        {
          "output_type": "execute_result",
          "data": {
            "text/plain": [
              "array([[6],\n",
              "       [9],\n",
              "       [9],\n",
              "       ...,\n",
              "       [9],\n",
              "       [1],\n",
              "       [1]], dtype=uint8)"
            ]
          },
          "metadata": {},
          "execution_count": 3
        }
      ]
    },
    {
      "cell_type": "code",
      "source": [
        "# shape images\n",
        "x_train[1].shape"
      ],
      "metadata": {
        "colab": {
          "base_uri": "https://localhost:8080/"
        },
        "id": "yGc4A2sP47ai",
        "outputId": "b1f1343a-4b5b-4a86-ddea-88efc9d14e90"
      },
      "execution_count": 4,
      "outputs": [
        {
          "output_type": "execute_result",
          "data": {
            "text/plain": [
              "(32, 32, 3)"
            ]
          },
          "metadata": {},
          "execution_count": 4
        }
      ]
    },
    {
      "cell_type": "code",
      "source": [
        "# show image\n",
        "plt.imshow(x_train[38])\n"
      ],
      "metadata": {
        "colab": {
          "base_uri": "https://localhost:8080/",
          "height": 447
        },
        "id": "zAkGBILj47YF",
        "outputId": "ccfbcc64-544d-4045-92d0-2854484d9ccf"
      },
      "execution_count": 6,
      "outputs": [
        {
          "output_type": "execute_result",
          "data": {
            "text/plain": [
              "<matplotlib.image.AxesImage at 0x7a0f693ac5b0>"
            ]
          },
          "metadata": {},
          "execution_count": 6
        },
        {
          "output_type": "display_data",
          "data": {
            "text/plain": [
              "<Figure size 640x480 with 1 Axes>"
            ],
            "image/png": "[encoded data removed]"
          },
          "metadata": {}
        }
      ]
    },
    {
      "cell_type": "code",
      "source": [
        "print(y_train[38])"
      ],
      "metadata": {
        "colab": {
          "base_uri": "https://localhost:8080/"
        },
        "id": "STGuQH_G47Vi",
        "outputId": "4e6951d3-ccf4-484b-ef9b-409f9ae379f3"
      },
      "execution_count": 7,
      "outputs": [
        {
          "output_type": "stream",
          "name": "stdout",
          "text": [
            "[3]\n"
          ]
        }
      ]
    },
    {
      "cell_type": "markdown",
      "source": [
        "## Train Test Split\n",
        "#### train %85 data & test %15 data"
      ],
      "metadata": {
        "id": "5qGHbA8T5lFs"
      }
    },
    {
      "cell_type": "code",
      "source": [
        "X = np.concatenate((x_train, x_test))\n",
        "y = np.concatenate((y_train , y_test))\n",
        "\n",
        "X_train, X_test,y_train , y_test = train_test_split(X, y, test_size=15, random_state=42)\n"
      ],
      "metadata": {
        "id": "vUyW4eg147TE"
      },
      "execution_count": 8,
      "outputs": []
    },
    {
      "cell_type": "code",
      "source": [
        "# data for predict\n",
        "y_train_for_peredct = y_train\n",
        "y_test_for_peredct = y_test\n",
        "x_train_1_perd, x_validation_perd, y_train_1_perd, y_validation_perd = train_test_split(X, y, test_size=15)\n",
        "\n",
        "print(X_train.shape)\n",
        "print(X.shape)\n",
        "print(y_train)"
      ],
      "metadata": {
        "colab": {
          "base_uri": "https://localhost:8080/"
        },
        "id": "i-A4BX3347Qk",
        "outputId": "f0e734df-a189-4599-f88d-c440c95dc27e"
      },
      "execution_count": 9,
      "outputs": [
        {
          "output_type": "stream",
          "name": "stdout",
          "text": [
            "(59985, 32, 32, 3)\n",
            "(60000, 32, 32, 3)\n",
            "[[5]\n",
            " [7]\n",
            " [5]\n",
            " ...\n",
            " [8]\n",
            " [8]\n",
            " [4]]\n"
          ]
        }
      ]
    },
    {
      "cell_type": "code",
      "source": [
        "X_train, X_test = X_train/255.0, X_test/255.0\n",
        "\n",
        "print(X_test[5][1][1])\n",
        "\n",
        "y_train = to_categorical(y_train, dtype =\"uint8\")\n",
        "y_test = to_categorical(y_test, dtype =\"uint8\")\n",
        "\n",
        "y_train[1]\n",
        "\n",
        "x_train_1, x_validation, y_train_1, y_validation = train_test_split(X_train, y_train, test_size=15)\n",
        "\n",
        "x_train_1[1].shape"
      ],
      "metadata": {
        "colab": {
          "base_uri": "https://localhost:8080/"
        },
        "id": "4vW9H0pd47OO",
        "outputId": "69db343a-16a3-47db-9b63-0c85ebf162cf"
      },
      "execution_count": 10,
      "outputs": [
        {
          "output_type": "stream",
          "name": "stdout",
          "text": [
            "[0.41568627 0.51372549 0.03921569]\n"
          ]
        },
        {
          "output_type": "execute_result",
          "data": {
            "text/plain": [
              "(32, 32, 3)"
            ]
          },
          "metadata": {},
          "execution_count": 10
        }
      ]
    },
    {
      "cell_type": "markdown",
      "source": [
        "## Create model"
      ],
      "metadata": {
        "id": "9dvfls_e5wa3"
      }
    },
    {
      "cell_type": "code",
      "source": [
        "model = keras.models.Sequential()\n",
        "model.add(layers.Flatten(input_shape=[32, 32,3]))\n",
        "model.add(layers.Dense(200, activation='relu'))\n",
        "model.add(layers.Dense(150, activation='relu'))\n",
        "model.add(layers.Dense(100, activation='relu'))\n",
        "model.add(layers.Dense(75, activation='relu'))\n",
        "model.add(layers.Dense(10, activation='softmax'))\n",
        "\n",
        "model.summary()"
      ],
      "metadata": {
        "colab": {
          "base_uri": "https://localhost:8080/"
        },
        "id": "Q27Lmny547JK",
        "outputId": "77242223-d7b7-41c4-c299-493fb4919dba"
      },
      "execution_count": 11,
      "outputs": [
        {
          "output_type": "stream",
          "name": "stdout",
          "text": [
            "Model: \"sequential\"\n",
            "_________________________________________________________________\n",
            " Layer (type)                Output Shape              Param #   \n",
            "=================================================================\n",
            " flatten (Flatten)           (None, 3072)              0         \n",
            "                                                                 \n",
            " dense (Dense)               (None, 200)               614600    \n",
            "                                                                 \n",
            " dense_1 (Dense)             (None, 150)               30150     \n",
            "                                                                 \n",
            " dense_2 (Dense)             (None, 100)               15100     \n",
            "                                                                 \n",
            " dense_3 (Dense)             (None, 75)                7575      \n",
            "                                                                 \n",
            " dense_4 (Dense)             (None, 10)                760       \n",
            "                                                                 \n",
            "=================================================================\n",
            "Total params: 668185 (2.55 MB)\n",
            "Trainable params: 668185 (2.55 MB)\n",
            "Non-trainable params: 0 (0.00 Byte)\n",
            "_________________________________________________________________\n"
          ]
        }
      ]
    },
    {
      "cell_type": "code",
      "source": [
        "\n",
        "model.layers"
      ],
      "metadata": {
        "colab": {
          "base_uri": "https://localhost:8080/"
        },
        "id": "UWcOlIOH5uBm",
        "outputId": "6202dc19-a7a9-45b1-cb1b-cfff11375b0b"
      },
      "execution_count": 12,
      "outputs": [
        {
          "output_type": "execute_result",
          "data": {
            "text/plain": [
              "[<keras.src.layers.reshaping.flatten.Flatten at 0x7a0ff90f9f90>,\n",
              " <keras.src.layers.core.dense.Dense at 0x7a0f6728cf40>,\n",
              " <keras.src.layers.core.dense.Dense at 0x7a0f6728d1b0>,\n",
              " <keras.src.layers.core.dense.Dense at 0x7a0f6728d120>,\n",
              " <keras.src.layers.core.dense.Dense at 0x7a0f6728eda0>,\n",
              " <keras.src.layers.core.dense.Dense at 0x7a0f6728f250>]"
            ]
          },
          "metadata": {},
          "execution_count": 12
        }
      ]
    },
    {
      "cell_type": "code",
      "source": [
        "\n",
        "count_layer = 2\n",
        "weight, bias = model.layers[count_layer].get_weights()\n",
        "print(model.layers[count_layer])\n",
        "print(\"weight\", weight)\n",
        "print(\"bias\", bias)\n",
        "print(\"len bias\", len(bias))\n",
        "print(\"len weight\", len(weight))\n"
      ],
      "metadata": {
        "colab": {
          "base_uri": "https://localhost:8080/"
        },
        "id": "aPWbut775t_D",
        "outputId": "ffbf3560-04f3-482b-c2e8-a3421506eb39"
      },
      "execution_count": 13,
      "outputs": [
        {
          "output_type": "stream",
          "name": "stdout",
          "text": [
            "<keras.src.layers.core.dense.Dense object at 0x7a0f6728d1b0>\n",
            "weight [[-0.09834036 -0.05943937 -0.01942451 ...  0.05538246 -0.06708553\n",
            "  -0.02691187]\n",
            " [ 0.00509261 -0.05048487  0.06365238 ...  0.09966281 -0.0359401\n",
            "  -0.03314399]\n",
            " [-0.01289256 -0.01195189 -0.07371687 ...  0.03709576 -0.03053939\n",
            "  -0.0607366 ]\n",
            " ...\n",
            " [ 0.02465238 -0.05194892  0.04506204 ...  0.01928781 -0.07134028\n",
            "   0.03108774]\n",
            " [-0.01064851 -0.04768146  0.04372524 ... -0.03925287  0.03308858\n",
            "  -0.02884101]\n",
            " [ 0.04170659  0.11506304 -0.08976952 ... -0.0474991  -0.01554392\n",
            "   0.1033411 ]]\n",
            "bias [0. 0. 0. 0. 0. 0. 0. 0. 0. 0. 0. 0. 0. 0. 0. 0. 0. 0. 0. 0. 0. 0. 0. 0.\n",
            " 0. 0. 0. 0. 0. 0. 0. 0. 0. 0. 0. 0. 0. 0. 0. 0. 0. 0. 0. 0. 0. 0. 0. 0.\n",
            " 0. 0. 0. 0. 0. 0. 0. 0. 0. 0. 0. 0. 0. 0. 0. 0. 0. 0. 0. 0. 0. 0. 0. 0.\n",
            " 0. 0. 0. 0. 0. 0. 0. 0. 0. 0. 0. 0. 0. 0. 0. 0. 0. 0. 0. 0. 0. 0. 0. 0.\n",
            " 0. 0. 0. 0. 0. 0. 0. 0. 0. 0. 0. 0. 0. 0. 0. 0. 0. 0. 0. 0. 0. 0. 0. 0.\n",
            " 0. 0. 0. 0. 0. 0. 0. 0. 0. 0. 0. 0. 0. 0. 0. 0. 0. 0. 0. 0. 0. 0. 0. 0.\n",
            " 0. 0. 0. 0. 0. 0.]\n",
            "len bias 150\n",
            "len weight 200\n"
          ]
        }
      ]
    },
    {
      "cell_type": "code",
      "source": [
        "# compile model\n",
        "\n",
        "model.compile(loss=keras.losses.categorical_crossentropy, optimizer='sgd', metrics=['accuracy'])"
      ],
      "metadata": {
        "id": "rUtymAx95t8k"
      },
      "execution_count": 14,
      "outputs": []
    },
    {
      "cell_type": "code",
      "source": [
        "# define callback\n",
        "\n",
        "checkpoint_filepath = \"model_cifar10_checkpoint_save.h5\"\n",
        "\n",
        "model_checkpoint_callback = keras.callbacks.ModelCheckpoint(filepath=checkpoint_filepath, save_weights_only=True, save_best_only=True)\n",
        "\n",
        "model_checkpoint_earlyEstping = keras.callbacks.EarlyStopping(monitor='loss',patience=10)\n"
      ],
      "metadata": {
        "id": "P9pz4A5W5t6E"
      },
      "execution_count": 15,
      "outputs": []
    },
    {
      "cell_type": "code",
      "source": [
        "# fit model\n",
        "\n",
        "history = model.fit(x_train_1, y_train_1, batch_size=128, epochs=1000,\n",
        "                   validation_data=[x_validation, y_validation], callbacks=[model_checkpoint_callback,model_checkpoint_earlyEstping])\n",
        "\n"
      ],
      "metadata": {
        "colab": {
          "base_uri": "https://localhost:8080/"
        },
        "id": "gu3WdLut5t3w",
        "outputId": "d69a1b9b-61d8-4974-e8a3-21855d370820"
      },
      "execution_count": 16,
      "outputs": [
        {
          "output_type": "stream",
          "name": "stdout",
          "text": [
            "Epoch 1/1000\n",
            "469/469 [==============================] - 10s 19ms/step - loss: 2.0653 - accuracy: 0.2559 - val_loss: 2.0377 - val_accuracy: 0.2667\n",
            "Epoch 2/1000\n",
            "469/469 [==============================] - 10s 21ms/step - loss: 1.8512 - accuracy: 0.3415 - val_loss: 2.0061 - val_accuracy: 0.2667\n",
            "Epoch 3/1000\n",
            "469/469 [==============================] - 9s 18ms/step - loss: 1.7621 - accuracy: 0.3746 - val_loss: 1.8514 - val_accuracy: 0.4000\n",
            "Epoch 4/1000\n",
            "469/469 [==============================] - 9s 19ms/step - loss: 1.7014 - accuracy: 0.3980 - val_loss: 1.7341 - val_accuracy: 0.4000\n",
            "Epoch 5/1000\n",
            "469/469 [==============================] - 6s 12ms/step - loss: 1.6589 - accuracy: 0.4103 - val_loss: 1.8249 - val_accuracy: 0.4000\n",
            "Epoch 6/1000\n",
            "469/469 [==============================] - 8s 16ms/step - loss: 1.6200 - accuracy: 0.4275 - val_loss: 1.7653 - val_accuracy: 0.2667\n",
            "Epoch 7/1000\n",
            "469/469 [==============================] - 6s 12ms/step - loss: 1.5887 - accuracy: 0.4357 - val_loss: 1.7172 - val_accuracy: 0.4000\n",
            "Epoch 8/1000\n",
            "469/469 [==============================] - 7s 15ms/step - loss: 1.5604 - accuracy: 0.4447 - val_loss: 1.6077 - val_accuracy: 0.3333\n",
            "Epoch 9/1000\n",
            "469/469 [==============================] - 7s 15ms/step - loss: 1.5347 - accuracy: 0.4552 - val_loss: 1.4832 - val_accuracy: 0.4667\n",
            "Epoch 10/1000\n",
            "469/469 [==============================] - 9s 19ms/step - loss: 1.5094 - accuracy: 0.4644 - val_loss: 1.6886 - val_accuracy: 0.3333\n",
            "Epoch 11/1000\n",
            "469/469 [==============================] - 14s 29ms/step - loss: 1.4906 - accuracy: 0.4708 - val_loss: 1.6875 - val_accuracy: 0.2667\n",
            "Epoch 12/1000\n",
            "469/469 [==============================] - 11s 24ms/step - loss: 1.4732 - accuracy: 0.4752 - val_loss: 1.5056 - val_accuracy: 0.3333\n",
            "Epoch 13/1000\n",
            "469/469 [==============================] - 8s 16ms/step - loss: 1.4536 - accuracy: 0.4855 - val_loss: 1.8602 - val_accuracy: 0.4667\n",
            "Epoch 14/1000\n",
            "469/469 [==============================] - 6s 12ms/step - loss: 1.4379 - accuracy: 0.4898 - val_loss: 1.4980 - val_accuracy: 0.4000\n",
            "Epoch 15/1000\n",
            "469/469 [==============================] - 7s 15ms/step - loss: 1.4243 - accuracy: 0.4939 - val_loss: 2.1444 - val_accuracy: 0.2667\n",
            "Epoch 16/1000\n",
            "469/469 [==============================] - 6s 12ms/step - loss: 1.4062 - accuracy: 0.5033 - val_loss: 1.4501 - val_accuracy: 0.2667\n",
            "Epoch 17/1000\n",
            "469/469 [==============================] - 7s 14ms/step - loss: 1.3943 - accuracy: 0.5065 - val_loss: 1.6348 - val_accuracy: 0.3333\n",
            "Epoch 18/1000\n",
            "469/469 [==============================] - 6s 12ms/step - loss: 1.3825 - accuracy: 0.5080 - val_loss: 1.6756 - val_accuracy: 0.3333\n",
            "Epoch 19/1000\n",
            "469/469 [==============================] - 6s 14ms/step - loss: 1.3665 - accuracy: 0.5159 - val_loss: 1.4911 - val_accuracy: 0.3333\n",
            "Epoch 20/1000\n",
            "469/469 [==============================] - 6s 13ms/step - loss: 1.3553 - accuracy: 0.5184 - val_loss: 1.9543 - val_accuracy: 0.3333\n",
            "Epoch 21/1000\n",
            "469/469 [==============================] - 6s 13ms/step - loss: 1.3429 - accuracy: 0.5232 - val_loss: 1.6040 - val_accuracy: 0.2667\n",
            "Epoch 22/1000\n",
            "469/469 [==============================] - 6s 13ms/step - loss: 1.3302 - accuracy: 0.5281 - val_loss: 1.4716 - val_accuracy: 0.3333\n",
            "Epoch 23/1000\n",
            "469/469 [==============================] - 7s 16ms/step - loss: 1.3229 - accuracy: 0.5308 - val_loss: 1.5656 - val_accuracy: 0.4000\n",
            "Epoch 24/1000\n",
            "469/469 [==============================] - 7s 14ms/step - loss: 1.3106 - accuracy: 0.5344 - val_loss: 1.6163 - val_accuracy: 0.4000\n",
            "Epoch 25/1000\n",
            "469/469 [==============================] - 6s 13ms/step - loss: 1.2993 - accuracy: 0.5385 - val_loss: 1.5734 - val_accuracy: 0.4000\n",
            "Epoch 26/1000\n",
            "469/469 [==============================] - 7s 15ms/step - loss: 1.2909 - accuracy: 0.5414 - val_loss: 1.4303 - val_accuracy: 0.4000\n",
            "Epoch 27/1000\n",
            "469/469 [==============================] - 6s 13ms/step - loss: 1.2809 - accuracy: 0.5449 - val_loss: 1.6629 - val_accuracy: 0.2667\n",
            "Epoch 28/1000\n",
            "469/469 [==============================] - 6s 14ms/step - loss: 1.2709 - accuracy: 0.5493 - val_loss: 1.4627 - val_accuracy: 0.3333\n",
            "Epoch 29/1000\n",
            "469/469 [==============================] - 7s 14ms/step - loss: 1.2621 - accuracy: 0.5511 - val_loss: 1.7174 - val_accuracy: 0.3333\n",
            "Epoch 30/1000\n",
            "469/469 [==============================] - 6s 13ms/step - loss: 1.2523 - accuracy: 0.5571 - val_loss: 1.5716 - val_accuracy: 0.4000\n",
            "Epoch 31/1000\n",
            "469/469 [==============================] - 6s 13ms/step - loss: 1.2430 - accuracy: 0.5598 - val_loss: 1.8645 - val_accuracy: 0.2667\n",
            "Epoch 32/1000\n",
            "469/469 [==============================] - 6s 14ms/step - loss: 1.2356 - accuracy: 0.5618 - val_loss: 1.5624 - val_accuracy: 0.2667\n",
            "Epoch 33/1000\n",
            "469/469 [==============================] - 9s 19ms/step - loss: 1.2281 - accuracy: 0.5641 - val_loss: 1.4871 - val_accuracy: 0.4000\n",
            "Epoch 34/1000\n",
            "469/469 [==============================] - 7s 15ms/step - loss: 1.2188 - accuracy: 0.5674 - val_loss: 1.5276 - val_accuracy: 0.4000\n",
            "Epoch 35/1000\n",
            "469/469 [==============================] - 7s 15ms/step - loss: 1.2101 - accuracy: 0.5697 - val_loss: 1.3984 - val_accuracy: 0.4000\n",
            "Epoch 36/1000\n",
            "469/469 [==============================] - 6s 12ms/step - loss: 1.2000 - accuracy: 0.5740 - val_loss: 1.3110 - val_accuracy: 0.3333\n",
            "Epoch 37/1000\n",
            "469/469 [==============================] - 7s 14ms/step - loss: 1.1914 - accuracy: 0.5783 - val_loss: 1.6308 - val_accuracy: 0.2667\n",
            "Epoch 38/1000\n",
            "469/469 [==============================] - 6s 12ms/step - loss: 1.1847 - accuracy: 0.5801 - val_loss: 1.5072 - val_accuracy: 0.4667\n",
            "Epoch 39/1000\n",
            "469/469 [==============================] - 7s 14ms/step - loss: 1.1758 - accuracy: 0.5835 - val_loss: 1.9857 - val_accuracy: 0.3333\n",
            "Epoch 40/1000\n",
            "469/469 [==============================] - 6s 12ms/step - loss: 1.1678 - accuracy: 0.5871 - val_loss: 1.5638 - val_accuracy: 0.4000\n",
            "Epoch 41/1000\n",
            "469/469 [==============================] - 7s 14ms/step - loss: 1.1633 - accuracy: 0.5871 - val_loss: 1.7436 - val_accuracy: 0.3333\n",
            "Epoch 42/1000\n",
            "469/469 [==============================] - 6s 12ms/step - loss: 1.1525 - accuracy: 0.5897 - val_loss: 2.0790 - val_accuracy: 0.2667\n",
            "Epoch 43/1000\n",
            "469/469 [==============================] - 7s 14ms/step - loss: 1.1475 - accuracy: 0.5915 - val_loss: 1.5875 - val_accuracy: 0.3333\n",
            "Epoch 44/1000\n",
            "469/469 [==============================] - 6s 12ms/step - loss: 1.1399 - accuracy: 0.5948 - val_loss: 1.5273 - val_accuracy: 0.2667\n",
            "Epoch 45/1000\n",
            "469/469 [==============================] - 7s 14ms/step - loss: 1.1322 - accuracy: 0.5974 - val_loss: 1.4005 - val_accuracy: 0.4000\n",
            "Epoch 46/1000\n",
            "469/469 [==============================] - 6s 12ms/step - loss: 1.1238 - accuracy: 0.6025 - val_loss: 1.5670 - val_accuracy: 0.3333\n",
            "Epoch 47/1000\n",
            "469/469 [==============================] - 7s 15ms/step - loss: 1.1184 - accuracy: 0.6032 - val_loss: 1.4959 - val_accuracy: 0.3333\n",
            "Epoch 48/1000\n",
            "469/469 [==============================] - 6s 13ms/step - loss: 1.1107 - accuracy: 0.6061 - val_loss: 1.4529 - val_accuracy: 0.4000\n",
            "Epoch 49/1000\n",
            "469/469 [==============================] - 7s 15ms/step - loss: 1.0992 - accuracy: 0.6097 - val_loss: 1.3866 - val_accuracy: 0.4000\n",
            "Epoch 50/1000\n",
            "469/469 [==============================] - 6s 13ms/step - loss: 1.0973 - accuracy: 0.6110 - val_loss: 1.4839 - val_accuracy: 0.3333\n",
            "Epoch 51/1000\n",
            "469/469 [==============================] - 7s 14ms/step - loss: 1.0878 - accuracy: 0.6138 - val_loss: 1.7191 - val_accuracy: 0.3333\n",
            "Epoch 52/1000\n",
            "469/469 [==============================] - 6s 12ms/step - loss: 1.0832 - accuracy: 0.6177 - val_loss: 1.6129 - val_accuracy: 0.4000\n",
            "Epoch 53/1000\n",
            "469/469 [==============================] - 7s 14ms/step - loss: 1.0742 - accuracy: 0.6220 - val_loss: 1.4529 - val_accuracy: 0.3333\n",
            "Epoch 54/1000\n",
            "469/469 [==============================] - 6s 12ms/step - loss: 1.0679 - accuracy: 0.6216 - val_loss: 1.5577 - val_accuracy: 0.3333\n",
            "Epoch 55/1000\n",
            "469/469 [==============================] - 7s 14ms/step - loss: 1.0586 - accuracy: 0.6245 - val_loss: 1.5421 - val_accuracy: 0.4667\n",
            "Epoch 56/1000\n",
            "469/469 [==============================] - 6s 12ms/step - loss: 1.0542 - accuracy: 0.6264 - val_loss: 1.4332 - val_accuracy: 0.4000\n",
            "Epoch 57/1000\n",
            "469/469 [==============================] - 7s 14ms/step - loss: 1.0521 - accuracy: 0.6269 - val_loss: 1.3694 - val_accuracy: 0.3333\n",
            "Epoch 58/1000\n",
            "469/469 [==============================] - 6s 12ms/step - loss: 1.0399 - accuracy: 0.6314 - val_loss: 1.7675 - val_accuracy: 0.3333\n",
            "Epoch 59/1000\n",
            "469/469 [==============================] - 7s 14ms/step - loss: 1.0342 - accuracy: 0.6318 - val_loss: 2.0213 - val_accuracy: 0.3333\n",
            "Epoch 60/1000\n",
            "469/469 [==============================] - 6s 12ms/step - loss: 1.0297 - accuracy: 0.6346 - val_loss: 1.5140 - val_accuracy: 0.4000\n",
            "Epoch 61/1000\n",
            "469/469 [==============================] - 7s 14ms/step - loss: 1.0190 - accuracy: 0.6397 - val_loss: 1.5308 - val_accuracy: 0.5333\n",
            "Epoch 62/1000\n",
            "469/469 [==============================] - 6s 12ms/step - loss: 1.0159 - accuracy: 0.6397 - val_loss: 1.7681 - val_accuracy: 0.3333\n",
            "Epoch 63/1000\n",
            "469/469 [==============================] - 7s 14ms/step - loss: 1.0057 - accuracy: 0.6441 - val_loss: 1.8958 - val_accuracy: 0.3333\n",
            "Epoch 64/1000\n",
            "469/469 [==============================] - 6s 12ms/step - loss: 1.0016 - accuracy: 0.6457 - val_loss: 1.3520 - val_accuracy: 0.4667\n",
            "Epoch 65/1000\n",
            "469/469 [==============================] - 7s 14ms/step - loss: 0.9939 - accuracy: 0.6465 - val_loss: 1.7939 - val_accuracy: 0.4000\n",
            "Epoch 66/1000\n",
            "469/469 [==============================] - 6s 12ms/step - loss: 0.9906 - accuracy: 0.6474 - val_loss: 1.3600 - val_accuracy: 0.3333\n",
            "Epoch 67/1000\n",
            "469/469 [==============================] - 9s 18ms/step - loss: 0.9848 - accuracy: 0.6509 - val_loss: 1.7133 - val_accuracy: 0.4667\n",
            "Epoch 68/1000\n",
            "469/469 [==============================] - 7s 15ms/step - loss: 0.9770 - accuracy: 0.6538 - val_loss: 1.6987 - val_accuracy: 0.4000\n",
            "Epoch 69/1000\n",
            "469/469 [==============================] - 7s 14ms/step - loss: 0.9702 - accuracy: 0.6551 - val_loss: 1.6340 - val_accuracy: 0.3333\n",
            "Epoch 70/1000\n",
            "469/469 [==============================] - 6s 13ms/step - loss: 0.9655 - accuracy: 0.6576 - val_loss: 1.4544 - val_accuracy: 0.4667\n",
            "Epoch 71/1000\n",
            "469/469 [==============================] - 7s 14ms/step - loss: 0.9578 - accuracy: 0.6624 - val_loss: 1.5402 - val_accuracy: 0.4667\n",
            "Epoch 72/1000\n",
            "469/469 [==============================] - 6s 12ms/step - loss: 0.9521 - accuracy: 0.6609 - val_loss: 1.4419 - val_accuracy: 0.4000\n",
            "Epoch 73/1000\n",
            "469/469 [==============================] - 7s 14ms/step - loss: 0.9476 - accuracy: 0.6633 - val_loss: 1.7251 - val_accuracy: 0.3333\n",
            "Epoch 74/1000\n",
            "469/469 [==============================] - 6s 12ms/step - loss: 0.9425 - accuracy: 0.6662 - val_loss: 1.5966 - val_accuracy: 0.5333\n",
            "Epoch 75/1000\n",
            "469/469 [==============================] - 7s 14ms/step - loss: 0.9307 - accuracy: 0.6695 - val_loss: 1.4464 - val_accuracy: 0.4000\n",
            "Epoch 76/1000\n",
            "469/469 [==============================] - 6s 13ms/step - loss: 0.9299 - accuracy: 0.6700 - val_loss: 1.6023 - val_accuracy: 0.4000\n",
            "Epoch 77/1000\n",
            "469/469 [==============================] - 7s 14ms/step - loss: 0.9211 - accuracy: 0.6736 - val_loss: 1.4238 - val_accuracy: 0.4667\n",
            "Epoch 78/1000\n",
            "469/469 [==============================] - 6s 13ms/step - loss: 0.9132 - accuracy: 0.6743 - val_loss: 1.4327 - val_accuracy: 0.4667\n",
            "Epoch 79/1000\n",
            "469/469 [==============================] - 7s 14ms/step - loss: 0.9068 - accuracy: 0.6794 - val_loss: 1.5365 - val_accuracy: 0.4667\n",
            "Epoch 80/1000\n",
            "469/469 [==============================] - 6s 13ms/step - loss: 0.9093 - accuracy: 0.6778 - val_loss: 1.4797 - val_accuracy: 0.5333\n",
            "Epoch 81/1000\n",
            "469/469 [==============================] - 7s 14ms/step - loss: 0.8985 - accuracy: 0.6832 - val_loss: 1.3044 - val_accuracy: 0.6000\n",
            "Epoch 82/1000\n",
            "469/469 [==============================] - 6s 13ms/step - loss: 0.8889 - accuracy: 0.6850 - val_loss: 1.8739 - val_accuracy: 0.4000\n",
            "Epoch 83/1000\n",
            "469/469 [==============================] - 7s 14ms/step - loss: 0.8907 - accuracy: 0.6852 - val_loss: 1.9098 - val_accuracy: 0.4000\n",
            "Epoch 84/1000\n",
            "469/469 [==============================] - 6s 13ms/step - loss: 0.8816 - accuracy: 0.6880 - val_loss: 1.6566 - val_accuracy: 0.4000\n",
            "Epoch 85/1000\n",
            "469/469 [==============================] - 7s 14ms/step - loss: 0.8789 - accuracy: 0.6877 - val_loss: 1.5624 - val_accuracy: 0.3333\n",
            "Epoch 86/1000\n",
            "469/469 [==============================] - 6s 12ms/step - loss: 0.8717 - accuracy: 0.6909 - val_loss: 1.3137 - val_accuracy: 0.3333\n",
            "Epoch 87/1000\n",
            "469/469 [==============================] - 7s 14ms/step - loss: 0.8615 - accuracy: 0.6946 - val_loss: 2.0726 - val_accuracy: 0.3333\n",
            "Epoch 88/1000\n",
            "469/469 [==============================] - 6s 12ms/step - loss: 0.8565 - accuracy: 0.6966 - val_loss: 1.8994 - val_accuracy: 0.4667\n",
            "Epoch 89/1000\n",
            "469/469 [==============================] - 7s 14ms/step - loss: 0.8503 - accuracy: 0.6977 - val_loss: 1.5917 - val_accuracy: 0.4667\n",
            "Epoch 90/1000\n",
            "469/469 [==============================] - 6s 12ms/step - loss: 0.8472 - accuracy: 0.6996 - val_loss: 1.8364 - val_accuracy: 0.3333\n",
            "Epoch 91/1000\n",
            "469/469 [==============================] - 7s 14ms/step - loss: 0.8393 - accuracy: 0.7020 - val_loss: 1.5149 - val_accuracy: 0.3333\n",
            "Epoch 92/1000\n",
            "469/469 [==============================] - 6s 12ms/step - loss: 0.8373 - accuracy: 0.7023 - val_loss: 1.7970 - val_accuracy: 0.4000\n",
            "Epoch 93/1000\n",
            "469/469 [==============================] - 7s 14ms/step - loss: 0.8314 - accuracy: 0.7041 - val_loss: 1.6360 - val_accuracy: 0.6000\n",
            "Epoch 94/1000\n",
            "469/469 [==============================] - 6s 13ms/step - loss: 0.8216 - accuracy: 0.7092 - val_loss: 1.3682 - val_accuracy: 0.3333\n",
            "Epoch 95/1000\n",
            "469/469 [==============================] - 7s 15ms/step - loss: 0.8184 - accuracy: 0.7097 - val_loss: 1.3042 - val_accuracy: 0.4667\n",
            "Epoch 96/1000\n",
            "469/469 [==============================] - 6s 13ms/step - loss: 0.8112 - accuracy: 0.7128 - val_loss: 1.5566 - val_accuracy: 0.4667\n",
            "Epoch 97/1000\n",
            "469/469 [==============================] - 7s 14ms/step - loss: 0.8119 - accuracy: 0.7111 - val_loss: 1.4865 - val_accuracy: 0.4667\n",
            "Epoch 98/1000\n",
            "469/469 [==============================] - 6s 14ms/step - loss: 0.8066 - accuracy: 0.7118 - val_loss: 1.1437 - val_accuracy: 0.6000\n",
            "Epoch 99/1000\n",
            "469/469 [==============================] - 6s 13ms/step - loss: 0.7997 - accuracy: 0.7161 - val_loss: 1.9758 - val_accuracy: 0.3333\n",
            "Epoch 100/1000\n",
            "469/469 [==============================] - 7s 14ms/step - loss: 0.7895 - accuracy: 0.7188 - val_loss: 1.5090 - val_accuracy: 0.6000\n",
            "Epoch 101/1000\n",
            "469/469 [==============================] - 6s 13ms/step - loss: 0.7902 - accuracy: 0.7197 - val_loss: 1.5765 - val_accuracy: 0.5333\n",
            "Epoch 102/1000\n",
            "469/469 [==============================] - 7s 14ms/step - loss: 0.7822 - accuracy: 0.7228 - val_loss: 1.5763 - val_accuracy: 0.5333\n",
            "Epoch 103/1000\n",
            "469/469 [==============================] - 6s 13ms/step - loss: 0.7816 - accuracy: 0.7204 - val_loss: 1.6985 - val_accuracy: 0.4000\n",
            "Epoch 104/1000\n",
            "469/469 [==============================] - 7s 14ms/step - loss: 0.7700 - accuracy: 0.7264 - val_loss: 1.4048 - val_accuracy: 0.4667\n",
            "Epoch 105/1000\n",
            "469/469 [==============================] - 6s 13ms/step - loss: 0.7704 - accuracy: 0.7269 - val_loss: 1.8388 - val_accuracy: 0.3333\n",
            "Epoch 106/1000\n",
            "469/469 [==============================] - 7s 15ms/step - loss: 0.7626 - accuracy: 0.7298 - val_loss: 1.3236 - val_accuracy: 0.4667\n",
            "Epoch 107/1000\n",
            "469/469 [==============================] - 6s 13ms/step - loss: 0.7556 - accuracy: 0.7313 - val_loss: 1.4804 - val_accuracy: 0.5333\n",
            "Epoch 108/1000\n",
            "469/469 [==============================] - 7s 14ms/step - loss: 0.7510 - accuracy: 0.7356 - val_loss: 1.6733 - val_accuracy: 0.4667\n",
            "Epoch 109/1000\n",
            "469/469 [==============================] - 6s 13ms/step - loss: 0.7422 - accuracy: 0.7376 - val_loss: 1.7745 - val_accuracy: 0.4667\n",
            "Epoch 110/1000\n",
            "469/469 [==============================] - 7s 14ms/step - loss: 0.7445 - accuracy: 0.7356 - val_loss: 1.4730 - val_accuracy: 0.3333\n",
            "Epoch 111/1000\n",
            "469/469 [==============================] - 6s 13ms/step - loss: 0.7323 - accuracy: 0.7404 - val_loss: 1.1493 - val_accuracy: 0.5333\n",
            "Epoch 112/1000\n",
            "469/469 [==============================] - 7s 14ms/step - loss: 0.7326 - accuracy: 0.7385 - val_loss: 1.6976 - val_accuracy: 0.4000\n",
            "Epoch 113/1000\n",
            "469/469 [==============================] - 6s 13ms/step - loss: 0.7233 - accuracy: 0.7438 - val_loss: 1.7479 - val_accuracy: 0.4667\n",
            "Epoch 114/1000\n",
            "469/469 [==============================] - 7s 14ms/step - loss: 0.7204 - accuracy: 0.7429 - val_loss: 1.7012 - val_accuracy: 0.4667\n",
            "Epoch 115/1000\n",
            "469/469 [==============================] - 6s 13ms/step - loss: 0.7136 - accuracy: 0.7458 - val_loss: 1.4359 - val_accuracy: 0.6000\n",
            "Epoch 116/1000\n",
            "469/469 [==============================] - 7s 14ms/step - loss: 0.7101 - accuracy: 0.7469 - val_loss: 1.2146 - val_accuracy: 0.6667\n",
            "Epoch 117/1000\n",
            "469/469 [==============================] - 6s 13ms/step - loss: 0.7064 - accuracy: 0.7505 - val_loss: 1.9077 - val_accuracy: 0.2667\n",
            "Epoch 118/1000\n",
            "469/469 [==============================] - 8s 17ms/step - loss: 0.6995 - accuracy: 0.7514 - val_loss: 1.4073 - val_accuracy: 0.4667\n",
            "Epoch 119/1000\n",
            "469/469 [==============================] - 7s 15ms/step - loss: 0.6894 - accuracy: 0.7551 - val_loss: 1.2732 - val_accuracy: 0.4667\n",
            "Epoch 120/1000\n",
            "469/469 [==============================] - 7s 15ms/step - loss: 0.6965 - accuracy: 0.7535 - val_loss: 1.2058 - val_accuracy: 0.7333\n",
            "Epoch 121/1000\n",
            "469/469 [==============================] - 6s 13ms/step - loss: 0.6839 - accuracy: 0.7583 - val_loss: 1.4113 - val_accuracy: 0.5333\n",
            "Epoch 122/1000\n",
            "469/469 [==============================] - 7s 15ms/step - loss: 0.6793 - accuracy: 0.7587 - val_loss: 1.9080 - val_accuracy: 0.4667\n",
            "Epoch 123/1000\n",
            "469/469 [==============================] - 6s 13ms/step - loss: 0.6757 - accuracy: 0.7615 - val_loss: 1.7087 - val_accuracy: 0.5333\n",
            "Epoch 124/1000\n",
            "469/469 [==============================] - 7s 15ms/step - loss: 0.6643 - accuracy: 0.7634 - val_loss: 1.2566 - val_accuracy: 0.4667\n",
            "Epoch 125/1000\n",
            "469/469 [==============================] - 6s 12ms/step - loss: 0.6648 - accuracy: 0.7625 - val_loss: 1.4171 - val_accuracy: 0.5333\n",
            "Epoch 126/1000\n",
            "469/469 [==============================] - 7s 15ms/step - loss: 0.6572 - accuracy: 0.7672 - val_loss: 1.7505 - val_accuracy: 0.4000\n",
            "Epoch 127/1000\n",
            "469/469 [==============================] - 6s 13ms/step - loss: 0.6531 - accuracy: 0.7693 - val_loss: 1.4527 - val_accuracy: 0.5333\n",
            "Epoch 128/1000\n",
            "469/469 [==============================] - 7s 15ms/step - loss: 0.6547 - accuracy: 0.7668 - val_loss: 2.1032 - val_accuracy: 0.3333\n",
            "Epoch 129/1000\n",
            "469/469 [==============================] - 6s 13ms/step - loss: 0.6455 - accuracy: 0.7705 - val_loss: 1.9693 - val_accuracy: 0.3333\n",
            "Epoch 130/1000\n",
            "469/469 [==============================] - 7s 15ms/step - loss: 0.6407 - accuracy: 0.7724 - val_loss: 1.4750 - val_accuracy: 0.4000\n",
            "Epoch 131/1000\n",
            "469/469 [==============================] - 6s 13ms/step - loss: 0.6372 - accuracy: 0.7730 - val_loss: 1.5610 - val_accuracy: 0.4667\n",
            "Epoch 132/1000\n",
            "469/469 [==============================] - 7s 15ms/step - loss: 0.6364 - accuracy: 0.7730 - val_loss: 1.5722 - val_accuracy: 0.5333\n",
            "Epoch 133/1000\n",
            "469/469 [==============================] - 6s 13ms/step - loss: 0.6343 - accuracy: 0.7749 - val_loss: 2.2803 - val_accuracy: 0.4667\n",
            "Epoch 134/1000\n",
            "469/469 [==============================] - 7s 15ms/step - loss: 0.6162 - accuracy: 0.7801 - val_loss: 1.1230 - val_accuracy: 0.6000\n",
            "Epoch 135/1000\n",
            "469/469 [==============================] - 6s 13ms/step - loss: 0.6174 - accuracy: 0.7807 - val_loss: 1.9368 - val_accuracy: 0.4000\n",
            "Epoch 136/1000\n",
            "469/469 [==============================] - 7s 15ms/step - loss: 0.6243 - accuracy: 0.7778 - val_loss: 1.4635 - val_accuracy: 0.5333\n",
            "Epoch 137/1000\n",
            "469/469 [==============================] - 6s 13ms/step - loss: 0.6103 - accuracy: 0.7819 - val_loss: 2.2100 - val_accuracy: 0.4000\n",
            "Epoch 138/1000\n",
            "469/469 [==============================] - 7s 14ms/step - loss: 0.6052 - accuracy: 0.7839 - val_loss: 1.5108 - val_accuracy: 0.4667\n",
            "Epoch 139/1000\n",
            "469/469 [==============================] - 6s 13ms/step - loss: 0.5985 - accuracy: 0.7878 - val_loss: 1.7772 - val_accuracy: 0.4000\n",
            "Epoch 140/1000\n",
            "469/469 [==============================] - 7s 14ms/step - loss: 0.6033 - accuracy: 0.7864 - val_loss: 1.6259 - val_accuracy: 0.5333\n",
            "Epoch 141/1000\n",
            "469/469 [==============================] - 6s 14ms/step - loss: 0.5967 - accuracy: 0.7893 - val_loss: 1.1195 - val_accuracy: 0.4667\n",
            "Epoch 142/1000\n",
            "469/469 [==============================] - 6s 14ms/step - loss: 0.5870 - accuracy: 0.7914 - val_loss: 1.2575 - val_accuracy: 0.6000\n",
            "Epoch 143/1000\n",
            "469/469 [==============================] - 7s 14ms/step - loss: 0.5804 - accuracy: 0.7937 - val_loss: 1.2425 - val_accuracy: 0.5333\n",
            "Epoch 144/1000\n",
            "469/469 [==============================] - 6s 13ms/step - loss: 0.5778 - accuracy: 0.7944 - val_loss: 1.5705 - val_accuracy: 0.4667\n",
            "Epoch 145/1000\n",
            "469/469 [==============================] - 7s 14ms/step - loss: 0.5769 - accuracy: 0.7954 - val_loss: 1.6268 - val_accuracy: 0.4000\n",
            "Epoch 146/1000\n",
            "469/469 [==============================] - 6s 13ms/step - loss: 0.5730 - accuracy: 0.7967 - val_loss: 1.7633 - val_accuracy: 0.4667\n",
            "Epoch 147/1000\n",
            "469/469 [==============================] - 7s 15ms/step - loss: 0.5646 - accuracy: 0.7994 - val_loss: 1.5182 - val_accuracy: 0.4000\n",
            "Epoch 148/1000\n",
            "469/469 [==============================] - 6s 13ms/step - loss: 0.5629 - accuracy: 0.8016 - val_loss: 2.0210 - val_accuracy: 0.4000\n",
            "Epoch 149/1000\n",
            "469/469 [==============================] - 7s 15ms/step - loss: 0.5531 - accuracy: 0.8039 - val_loss: 1.7356 - val_accuracy: 0.5333\n",
            "Epoch 150/1000\n",
            "469/469 [==============================] - 6s 13ms/step - loss: 0.5618 - accuracy: 0.8007 - val_loss: 2.6555 - val_accuracy: 0.4000\n",
            "Epoch 151/1000\n",
            "469/469 [==============================] - 7s 15ms/step - loss: 0.5538 - accuracy: 0.8017 - val_loss: 1.9533 - val_accuracy: 0.5333\n",
            "Epoch 152/1000\n",
            "469/469 [==============================] - 6s 13ms/step - loss: 0.5527 - accuracy: 0.8040 - val_loss: 1.4394 - val_accuracy: 0.5333\n",
            "Epoch 153/1000\n",
            "469/469 [==============================] - 7s 15ms/step - loss: 0.5413 - accuracy: 0.8082 - val_loss: 1.3934 - val_accuracy: 0.6000\n",
            "Epoch 154/1000\n",
            "469/469 [==============================] - 6s 13ms/step - loss: 0.5470 - accuracy: 0.8075 - val_loss: 1.9943 - val_accuracy: 0.6000\n",
            "Epoch 155/1000\n",
            "469/469 [==============================] - 7s 15ms/step - loss: 0.5421 - accuracy: 0.8099 - val_loss: 1.8863 - val_accuracy: 0.4667\n",
            "Epoch 156/1000\n",
            "469/469 [==============================] - 6s 13ms/step - loss: 0.5289 - accuracy: 0.8111 - val_loss: 1.5646 - val_accuracy: 0.5333\n",
            "Epoch 157/1000\n",
            "469/469 [==============================] - 7s 15ms/step - loss: 0.5246 - accuracy: 0.8131 - val_loss: 2.4936 - val_accuracy: 0.4667\n",
            "Epoch 158/1000\n",
            "469/469 [==============================] - 6s 13ms/step - loss: 0.5172 - accuracy: 0.8157 - val_loss: 2.1821 - val_accuracy: 0.4667\n",
            "Epoch 159/1000\n",
            "469/469 [==============================] - 7s 15ms/step - loss: 0.5232 - accuracy: 0.8149 - val_loss: 1.4553 - val_accuracy: 0.5333\n",
            "Epoch 160/1000\n",
            "469/469 [==============================] - 6s 13ms/step - loss: 0.5169 - accuracy: 0.8169 - val_loss: 1.4219 - val_accuracy: 0.4667\n",
            "Epoch 161/1000\n",
            "469/469 [==============================] - 7s 15ms/step - loss: 0.5057 - accuracy: 0.8196 - val_loss: 2.4302 - val_accuracy: 0.3333\n",
            "Epoch 162/1000\n",
            "469/469 [==============================] - 6s 13ms/step - loss: 0.5015 - accuracy: 0.8221 - val_loss: 2.4858 - val_accuracy: 0.4000\n",
            "Epoch 163/1000\n",
            "469/469 [==============================] - 7s 15ms/step - loss: 0.5211 - accuracy: 0.8157 - val_loss: 1.7966 - val_accuracy: 0.5333\n",
            "Epoch 164/1000\n",
            "469/469 [==============================] - 6s 13ms/step - loss: 0.4908 - accuracy: 0.8264 - val_loss: 1.7099 - val_accuracy: 0.5333\n",
            "Epoch 165/1000\n",
            "469/469 [==============================] - 7s 15ms/step - loss: 0.4870 - accuracy: 0.8271 - val_loss: 2.2419 - val_accuracy: 0.4667\n",
            "Epoch 166/1000\n",
            "469/469 [==============================] - 6s 13ms/step - loss: 0.4922 - accuracy: 0.8270 - val_loss: 1.4072 - val_accuracy: 0.6000\n",
            "Epoch 167/1000\n",
            "469/469 [==============================] - 7s 15ms/step - loss: 0.4823 - accuracy: 0.8290 - val_loss: 1.2904 - val_accuracy: 0.5333\n",
            "Epoch 168/1000\n",
            "469/469 [==============================] - 6s 13ms/step - loss: 0.4799 - accuracy: 0.8313 - val_loss: 1.8941 - val_accuracy: 0.4000\n",
            "Epoch 169/1000\n",
            "469/469 [==============================] - 7s 15ms/step - loss: 0.4725 - accuracy: 0.8320 - val_loss: 1.9666 - val_accuracy: 0.5333\n",
            "Epoch 170/1000\n",
            "469/469 [==============================] - 6s 14ms/step - loss: 0.4915 - accuracy: 0.8261 - val_loss: 1.7752 - val_accuracy: 0.6000\n",
            "Epoch 171/1000\n",
            "469/469 [==============================] - 7s 14ms/step - loss: 0.4763 - accuracy: 0.8298 - val_loss: 1.6499 - val_accuracy: 0.6000\n",
            "Epoch 172/1000\n",
            "469/469 [==============================] - 7s 14ms/step - loss: 0.4651 - accuracy: 0.8363 - val_loss: 1.8703 - val_accuracy: 0.5333\n",
            "Epoch 173/1000\n",
            "469/469 [==============================] - 7s 14ms/step - loss: 0.4666 - accuracy: 0.8351 - val_loss: 1.3388 - val_accuracy: 0.6667\n",
            "Epoch 174/1000\n",
            "469/469 [==============================] - 7s 14ms/step - loss: 0.4600 - accuracy: 0.8379 - val_loss: 1.4435 - val_accuracy: 0.4667\n",
            "Epoch 175/1000\n",
            "469/469 [==============================] - 6s 13ms/step - loss: 0.4599 - accuracy: 0.8378 - val_loss: 1.9313 - val_accuracy: 0.5333\n",
            "Epoch 176/1000\n",
            "469/469 [==============================] - 7s 15ms/step - loss: 0.4549 - accuracy: 0.8393 - val_loss: 1.9073 - val_accuracy: 0.4000\n",
            "Epoch 177/1000\n",
            "469/469 [==============================] - 6s 13ms/step - loss: 0.4398 - accuracy: 0.8448 - val_loss: 1.4139 - val_accuracy: 0.5333\n",
            "Epoch 178/1000\n",
            "469/469 [==============================] - 7s 15ms/step - loss: 0.4433 - accuracy: 0.8418 - val_loss: 1.9396 - val_accuracy: 0.6000\n",
            "Epoch 179/1000\n",
            "469/469 [==============================] - 6s 13ms/step - loss: 0.4503 - accuracy: 0.8393 - val_loss: 2.4966 - val_accuracy: 0.3333\n",
            "Epoch 180/1000\n",
            "469/469 [==============================] - 7s 15ms/step - loss: 0.4339 - accuracy: 0.8465 - val_loss: 1.8380 - val_accuracy: 0.5333\n",
            "Epoch 181/1000\n",
            "469/469 [==============================] - 6s 13ms/step - loss: 0.4363 - accuracy: 0.8445 - val_loss: 1.7009 - val_accuracy: 0.4667\n",
            "Epoch 182/1000\n",
            "469/469 [==============================] - 7s 15ms/step - loss: 0.4293 - accuracy: 0.8484 - val_loss: 1.7859 - val_accuracy: 0.5333\n",
            "Epoch 183/1000\n",
            "469/469 [==============================] - 6s 13ms/step - loss: 0.4474 - accuracy: 0.8432 - val_loss: 1.6151 - val_accuracy: 0.5333\n",
            "Epoch 184/1000\n",
            "469/469 [==============================] - 7s 15ms/step - loss: 0.4138 - accuracy: 0.8534 - val_loss: 2.3308 - val_accuracy: 0.4000\n",
            "Epoch 185/1000\n",
            "469/469 [==============================] - 6s 13ms/step - loss: 0.4051 - accuracy: 0.8574 - val_loss: 2.3139 - val_accuracy: 0.4667\n",
            "Epoch 186/1000\n",
            "469/469 [==============================] - 7s 15ms/step - loss: 0.4186 - accuracy: 0.8541 - val_loss: 2.0506 - val_accuracy: 0.4667\n",
            "Epoch 187/1000\n",
            "469/469 [==============================] - 6s 14ms/step - loss: 0.4339 - accuracy: 0.8463 - val_loss: 2.1742 - val_accuracy: 0.4667\n",
            "Epoch 188/1000\n",
            "469/469 [==============================] - 7s 15ms/step - loss: 0.3954 - accuracy: 0.8623 - val_loss: 1.7651 - val_accuracy: 0.4667\n",
            "Epoch 189/1000\n",
            "469/469 [==============================] - 7s 14ms/step - loss: 0.4142 - accuracy: 0.8557 - val_loss: 2.2676 - val_accuracy: 0.5333\n",
            "Epoch 190/1000\n",
            "469/469 [==============================] - 7s 15ms/step - loss: 0.3966 - accuracy: 0.8580 - val_loss: 1.6496 - val_accuracy: 0.4667\n",
            "Epoch 191/1000\n",
            "469/469 [==============================] - 7s 15ms/step - loss: 0.4019 - accuracy: 0.8583 - val_loss: 1.8898 - val_accuracy: 0.4667\n",
            "Epoch 192/1000\n",
            "469/469 [==============================] - 6s 13ms/step - loss: 0.3960 - accuracy: 0.8599 - val_loss: 0.8428 - val_accuracy: 0.7333\n",
            "Epoch 193/1000\n",
            "469/469 [==============================] - 7s 15ms/step - loss: 0.4095 - accuracy: 0.8568 - val_loss: 1.9394 - val_accuracy: 0.4667\n",
            "Epoch 194/1000\n",
            "469/469 [==============================] - 6s 13ms/step - loss: 0.3904 - accuracy: 0.8622 - val_loss: 2.0430 - val_accuracy: 0.4667\n",
            "Epoch 195/1000\n",
            "469/469 [==============================] - 7s 15ms/step - loss: 0.3983 - accuracy: 0.8588 - val_loss: 2.0567 - val_accuracy: 0.4667\n",
            "Epoch 196/1000\n",
            "469/469 [==============================] - 6s 13ms/step - loss: 0.3913 - accuracy: 0.8618 - val_loss: 2.2792 - val_accuracy: 0.5333\n",
            "Epoch 197/1000\n",
            "469/469 [==============================] - 7s 15ms/step - loss: 0.3789 - accuracy: 0.8675 - val_loss: 1.2801 - val_accuracy: 0.6667\n",
            "Epoch 198/1000\n",
            "469/469 [==============================] - 6s 13ms/step - loss: 0.3703 - accuracy: 0.8696 - val_loss: 1.3433 - val_accuracy: 0.6000\n",
            "Epoch 199/1000\n",
            "469/469 [==============================] - 7s 15ms/step - loss: 0.3678 - accuracy: 0.8685 - val_loss: 1.8003 - val_accuracy: 0.6000\n",
            "Epoch 200/1000\n",
            "469/469 [==============================] - 6s 13ms/step - loss: 0.3710 - accuracy: 0.8704 - val_loss: 1.8580 - val_accuracy: 0.6000\n",
            "Epoch 201/1000\n",
            "469/469 [==============================] - 7s 15ms/step - loss: 0.3764 - accuracy: 0.8680 - val_loss: 3.0435 - val_accuracy: 0.4667\n",
            "Epoch 202/1000\n",
            "469/469 [==============================] - 6s 13ms/step - loss: 0.3632 - accuracy: 0.8722 - val_loss: 3.2135 - val_accuracy: 0.3333\n",
            "Epoch 203/1000\n",
            "469/469 [==============================] - 7s 15ms/step - loss: 0.3984 - accuracy: 0.8617 - val_loss: 2.1789 - val_accuracy: 0.4667\n",
            "Epoch 204/1000\n",
            "469/469 [==============================] - 6s 13ms/step - loss: 0.3733 - accuracy: 0.8695 - val_loss: 1.4618 - val_accuracy: 0.5333\n",
            "Epoch 205/1000\n",
            "469/469 [==============================] - 7s 15ms/step - loss: 0.3715 - accuracy: 0.8720 - val_loss: 3.0548 - val_accuracy: 0.4000\n",
            "Epoch 206/1000\n",
            "469/469 [==============================] - 6s 13ms/step - loss: 0.3542 - accuracy: 0.8761 - val_loss: 1.9601 - val_accuracy: 0.6000\n",
            "Epoch 207/1000\n",
            "469/469 [==============================] - 7s 15ms/step - loss: 0.3444 - accuracy: 0.8806 - val_loss: 2.5252 - val_accuracy: 0.4667\n",
            "Epoch 208/1000\n",
            "469/469 [==============================] - 7s 14ms/step - loss: 0.3421 - accuracy: 0.8792 - val_loss: 1.6789 - val_accuracy: 0.4667\n",
            "Epoch 209/1000\n",
            "469/469 [==============================] - 7s 14ms/step - loss: 0.3330 - accuracy: 0.8829 - val_loss: 2.6574 - val_accuracy: 0.4000\n",
            "Epoch 210/1000\n",
            "469/469 [==============================] - 7s 15ms/step - loss: 0.3523 - accuracy: 0.8773 - val_loss: 2.1894 - val_accuracy: 0.6000\n",
            "Epoch 211/1000\n",
            "469/469 [==============================] - 6s 14ms/step - loss: 0.3477 - accuracy: 0.8775 - val_loss: 1.6312 - val_accuracy: 0.7333\n",
            "Epoch 212/1000\n",
            "469/469 [==============================] - 7s 15ms/step - loss: 0.3318 - accuracy: 0.8849 - val_loss: 2.6490 - val_accuracy: 0.4667\n",
            "Epoch 213/1000\n",
            "469/469 [==============================] - 6s 13ms/step - loss: 0.3418 - accuracy: 0.8806 - val_loss: 1.9867 - val_accuracy: 0.5333\n",
            "Epoch 214/1000\n",
            "469/469 [==============================] - 7s 15ms/step - loss: 0.3346 - accuracy: 0.8844 - val_loss: 1.9350 - val_accuracy: 0.6000\n",
            "Epoch 215/1000\n",
            "469/469 [==============================] - 6s 13ms/step - loss: 0.3257 - accuracy: 0.8846 - val_loss: 1.9754 - val_accuracy: 0.5333\n",
            "Epoch 216/1000\n",
            "469/469 [==============================] - 7s 15ms/step - loss: 0.3341 - accuracy: 0.8832 - val_loss: 1.7040 - val_accuracy: 0.7333\n",
            "Epoch 217/1000\n",
            "469/469 [==============================] - 6s 13ms/step - loss: 0.3299 - accuracy: 0.8862 - val_loss: 2.4242 - val_accuracy: 0.4667\n",
            "Epoch 218/1000\n",
            "469/469 [==============================] - 7s 15ms/step - loss: 0.3302 - accuracy: 0.8861 - val_loss: 2.0744 - val_accuracy: 0.5333\n",
            "Epoch 219/1000\n",
            "469/469 [==============================] - 6s 13ms/step - loss: 0.2981 - accuracy: 0.8983 - val_loss: 2.3339 - val_accuracy: 0.6000\n",
            "Epoch 220/1000\n",
            "469/469 [==============================] - 7s 15ms/step - loss: 0.3256 - accuracy: 0.8848 - val_loss: 2.6109 - val_accuracy: 0.4667\n",
            "Epoch 221/1000\n",
            "469/469 [==============================] - 6s 13ms/step - loss: 0.3098 - accuracy: 0.8919 - val_loss: 2.5761 - val_accuracy: 0.4667\n",
            "Epoch 222/1000\n",
            "469/469 [==============================] - 7s 15ms/step - loss: 0.3077 - accuracy: 0.8941 - val_loss: 2.0516 - val_accuracy: 0.5333\n",
            "Epoch 223/1000\n",
            "469/469 [==============================] - 6s 13ms/step - loss: 0.2812 - accuracy: 0.9028 - val_loss: 1.5831 - val_accuracy: 0.8000\n",
            "Epoch 224/1000\n",
            "469/469 [==============================] - 7s 15ms/step - loss: 0.3445 - accuracy: 0.8837 - val_loss: 2.0292 - val_accuracy: 0.5333\n",
            "Epoch 225/1000\n",
            "469/469 [==============================] - 6s 13ms/step - loss: 0.3116 - accuracy: 0.8916 - val_loss: 3.2718 - val_accuracy: 0.5333\n",
            "Epoch 226/1000\n",
            "469/469 [==============================] - 7s 15ms/step - loss: 0.2927 - accuracy: 0.8998 - val_loss: 1.7495 - val_accuracy: 0.6667\n",
            "Epoch 227/1000\n",
            "469/469 [==============================] - 6s 13ms/step - loss: 0.2930 - accuracy: 0.8977 - val_loss: 2.6291 - val_accuracy: 0.4667\n",
            "Epoch 228/1000\n",
            "469/469 [==============================] - 7s 15ms/step - loss: 0.2909 - accuracy: 0.8977 - val_loss: 2.9009 - val_accuracy: 0.4667\n",
            "Epoch 229/1000\n",
            "469/469 [==============================] - 6s 14ms/step - loss: 0.2705 - accuracy: 0.9057 - val_loss: 2.3351 - val_accuracy: 0.4667\n",
            "Epoch 230/1000\n",
            "469/469 [==============================] - 7s 14ms/step - loss: 0.3346 - accuracy: 0.8860 - val_loss: 1.6675 - val_accuracy: 0.5333\n",
            "Epoch 231/1000\n",
            "469/469 [==============================] - 7s 14ms/step - loss: 0.2738 - accuracy: 0.9045 - val_loss: 2.6166 - val_accuracy: 0.5333\n",
            "Epoch 232/1000\n",
            "469/469 [==============================] - 6s 14ms/step - loss: 0.2838 - accuracy: 0.9031 - val_loss: 1.9456 - val_accuracy: 0.6000\n",
            "Epoch 233/1000\n",
            "469/469 [==============================] - 7s 15ms/step - loss: 0.2922 - accuracy: 0.9003 - val_loss: 2.1541 - val_accuracy: 0.5333\n",
            "Epoch 234/1000\n",
            "469/469 [==============================] - 6s 13ms/step - loss: 0.2883 - accuracy: 0.8982 - val_loss: 2.0171 - val_accuracy: 0.4667\n",
            "Epoch 235/1000\n",
            "469/469 [==============================] - 7s 15ms/step - loss: 0.2862 - accuracy: 0.9021 - val_loss: 1.9806 - val_accuracy: 0.6667\n",
            "Epoch 236/1000\n",
            "469/469 [==============================] - 6s 13ms/step - loss: 0.2831 - accuracy: 0.9060 - val_loss: 2.1712 - val_accuracy: 0.6667\n",
            "Epoch 237/1000\n",
            "469/469 [==============================] - 7s 15ms/step - loss: 0.2532 - accuracy: 0.9130 - val_loss: 2.6828 - val_accuracy: 0.5333\n",
            "Epoch 238/1000\n",
            "469/469 [==============================] - 6s 13ms/step - loss: 0.2702 - accuracy: 0.9049 - val_loss: 2.5371 - val_accuracy: 0.6667\n",
            "Epoch 239/1000\n",
            "469/469 [==============================] - 7s 15ms/step - loss: 0.2848 - accuracy: 0.9048 - val_loss: 1.5584 - val_accuracy: 0.6000\n",
            "Epoch 240/1000\n",
            "469/469 [==============================] - 6s 13ms/step - loss: 0.2551 - accuracy: 0.9118 - val_loss: 1.7105 - val_accuracy: 0.6000\n",
            "Epoch 241/1000\n",
            "469/469 [==============================] - 7s 15ms/step - loss: 0.2789 - accuracy: 0.9039 - val_loss: 2.1791 - val_accuracy: 0.5333\n",
            "Epoch 242/1000\n",
            "469/469 [==============================] - 6s 13ms/step - loss: 0.2581 - accuracy: 0.9114 - val_loss: 2.0846 - val_accuracy: 0.6667\n",
            "Epoch 243/1000\n",
            "469/469 [==============================] - 7s 15ms/step - loss: 0.2379 - accuracy: 0.9184 - val_loss: 2.6891 - val_accuracy: 0.5333\n",
            "Epoch 244/1000\n",
            "469/469 [==============================] - 6s 13ms/step - loss: 0.2576 - accuracy: 0.9119 - val_loss: 2.5777 - val_accuracy: 0.5333\n",
            "Epoch 245/1000\n",
            "469/469 [==============================] - 7s 15ms/step - loss: 0.2313 - accuracy: 0.9223 - val_loss: 2.0774 - val_accuracy: 0.6667\n",
            "Epoch 246/1000\n",
            "469/469 [==============================] - 6s 13ms/step - loss: 0.2656 - accuracy: 0.9106 - val_loss: 3.4018 - val_accuracy: 0.4667\n",
            "Epoch 247/1000\n",
            "469/469 [==============================] - 7s 15ms/step - loss: 0.2467 - accuracy: 0.9176 - val_loss: 2.0349 - val_accuracy: 0.6667\n",
            "Epoch 248/1000\n",
            "469/469 [==============================] - 6s 13ms/step - loss: 0.2666 - accuracy: 0.9084 - val_loss: 2.1193 - val_accuracy: 0.6667\n",
            "Epoch 249/1000\n",
            "469/469 [==============================] - 7s 15ms/step - loss: 0.2582 - accuracy: 0.9132 - val_loss: 2.7748 - val_accuracy: 0.4667\n",
            "Epoch 250/1000\n",
            "469/469 [==============================] - 6s 14ms/step - loss: 0.2283 - accuracy: 0.9223 - val_loss: 2.2012 - val_accuracy: 0.6000\n",
            "Epoch 251/1000\n",
            "469/469 [==============================] - 7s 15ms/step - loss: 0.2586 - accuracy: 0.9118 - val_loss: 3.0815 - val_accuracy: 0.5333\n",
            "Epoch 252/1000\n",
            "469/469 [==============================] - 7s 14ms/step - loss: 0.2083 - accuracy: 0.9299 - val_loss: 2.6251 - val_accuracy: 0.6667\n",
            "Epoch 253/1000\n",
            "469/469 [==============================] - 7s 14ms/step - loss: 0.2318 - accuracy: 0.9208 - val_loss: 2.4974 - val_accuracy: 0.5333\n",
            "Epoch 254/1000\n",
            "469/469 [==============================] - 7s 15ms/step - loss: 0.2820 - accuracy: 0.9064 - val_loss: 2.7839 - val_accuracy: 0.4667\n",
            "Epoch 255/1000\n",
            "469/469 [==============================] - 6s 14ms/step - loss: 0.2764 - accuracy: 0.9086 - val_loss: 2.5013 - val_accuracy: 0.4667\n",
            "Epoch 256/1000\n",
            "469/469 [==============================] - 7s 15ms/step - loss: 0.2290 - accuracy: 0.9220 - val_loss: 2.3177 - val_accuracy: 0.6000\n",
            "Epoch 257/1000\n",
            "469/469 [==============================] - 6s 13ms/step - loss: 0.2571 - accuracy: 0.9164 - val_loss: 3.5129 - val_accuracy: 0.5333\n",
            "Epoch 258/1000\n",
            "469/469 [==============================] - 7s 15ms/step - loss: 0.1933 - accuracy: 0.9344 - val_loss: 3.0568 - val_accuracy: 0.5333\n",
            "Epoch 259/1000\n",
            "469/469 [==============================] - 6s 13ms/step - loss: 0.2182 - accuracy: 0.9296 - val_loss: 2.0149 - val_accuracy: 0.6000\n",
            "Epoch 260/1000\n",
            "469/469 [==============================] - 7s 15ms/step - loss: 0.2261 - accuracy: 0.9265 - val_loss: 2.6513 - val_accuracy: 0.5333\n",
            "Epoch 261/1000\n",
            "469/469 [==============================] - 6s 13ms/step - loss: 0.1890 - accuracy: 0.9351 - val_loss: 2.3933 - val_accuracy: 0.4667\n",
            "Epoch 262/1000\n",
            "469/469 [==============================] - 7s 15ms/step - loss: 0.1859 - accuracy: 0.9371 - val_loss: 2.8892 - val_accuracy: 0.6667\n",
            "Epoch 263/1000\n",
            "469/469 [==============================] - 6s 14ms/step - loss: 0.2471 - accuracy: 0.9229 - val_loss: 2.1243 - val_accuracy: 0.7333\n",
            "Epoch 264/1000\n",
            "469/469 [==============================] - 7s 15ms/step - loss: 0.2494 - accuracy: 0.9195 - val_loss: 3.1606 - val_accuracy: 0.5333\n",
            "Epoch 265/1000\n",
            "469/469 [==============================] - 6s 13ms/step - loss: 0.2162 - accuracy: 0.9292 - val_loss: 2.3788 - val_accuracy: 0.4667\n",
            "Epoch 266/1000\n",
            "469/469 [==============================] - 7s 15ms/step - loss: 0.2485 - accuracy: 0.9225 - val_loss: 2.5652 - val_accuracy: 0.6000\n",
            "Epoch 267/1000\n",
            "469/469 [==============================] - 7s 14ms/step - loss: 0.1879 - accuracy: 0.9367 - val_loss: 2.3350 - val_accuracy: 0.6000\n",
            "Epoch 268/1000\n",
            "469/469 [==============================] - 7s 15ms/step - loss: 0.2193 - accuracy: 0.9299 - val_loss: 2.7803 - val_accuracy: 0.6000\n",
            "Epoch 269/1000\n",
            "469/469 [==============================] - 7s 15ms/step - loss: 0.2004 - accuracy: 0.9370 - val_loss: 2.8295 - val_accuracy: 0.5333\n",
            "Epoch 270/1000\n",
            "469/469 [==============================] - 7s 14ms/step - loss: 0.2586 - accuracy: 0.9193 - val_loss: 1.7280 - val_accuracy: 0.6000\n",
            "Epoch 271/1000\n",
            "469/469 [==============================] - 7s 15ms/step - loss: 0.1818 - accuracy: 0.9394 - val_loss: 2.4885 - val_accuracy: 0.6000\n",
            "Epoch 272/1000\n",
            "469/469 [==============================] - 6s 14ms/step - loss: 0.1831 - accuracy: 0.9428 - val_loss: 2.4416 - val_accuracy: 0.6000\n",
            "Epoch 273/1000\n",
            "469/469 [==============================] - 7s 15ms/step - loss: 0.1796 - accuracy: 0.9406 - val_loss: 2.1674 - val_accuracy: 0.6667\n",
            "Epoch 274/1000\n",
            "469/469 [==============================] - 6s 13ms/step - loss: 0.1835 - accuracy: 0.9389 - val_loss: 2.7259 - val_accuracy: 0.6667\n",
            "Epoch 275/1000\n",
            "469/469 [==============================] - 7s 15ms/step - loss: 0.2502 - accuracy: 0.9227 - val_loss: 1.8710 - val_accuracy: 0.6667\n",
            "Epoch 276/1000\n",
            "469/469 [==============================] - 6s 14ms/step - loss: 0.1580 - accuracy: 0.9481 - val_loss: 3.3525 - val_accuracy: 0.5333\n",
            "Epoch 277/1000\n",
            "469/469 [==============================] - 7s 16ms/step - loss: 0.2251 - accuracy: 0.9309 - val_loss: 2.1952 - val_accuracy: 0.6667\n",
            "Epoch 278/1000\n",
            "469/469 [==============================] - 6s 13ms/step - loss: 0.1596 - accuracy: 0.9475 - val_loss: 2.1637 - val_accuracy: 0.7333\n",
            "Epoch 279/1000\n",
            "469/469 [==============================] - 7s 15ms/step - loss: 0.2087 - accuracy: 0.9330 - val_loss: 2.4908 - val_accuracy: 0.5333\n",
            "Epoch 280/1000\n",
            "469/469 [==============================] - 6s 13ms/step - loss: 0.1587 - accuracy: 0.9479 - val_loss: 2.4017 - val_accuracy: 0.7333\n",
            "Epoch 281/1000\n",
            "469/469 [==============================] - 7s 15ms/step - loss: 0.2290 - accuracy: 0.9310 - val_loss: 3.9696 - val_accuracy: 0.4667\n",
            "Epoch 282/1000\n",
            "469/469 [==============================] - 6s 14ms/step - loss: 0.2384 - accuracy: 0.9262 - val_loss: 2.8874 - val_accuracy: 0.5333\n",
            "Epoch 283/1000\n",
            "469/469 [==============================] - 7s 15ms/step - loss: 0.1759 - accuracy: 0.9439 - val_loss: 3.0874 - val_accuracy: 0.5333\n",
            "Epoch 284/1000\n",
            "469/469 [==============================] - 7s 14ms/step - loss: 0.1721 - accuracy: 0.9484 - val_loss: 2.8799 - val_accuracy: 0.4667\n",
            "Epoch 285/1000\n",
            "469/469 [==============================] - 7s 15ms/step - loss: 0.1668 - accuracy: 0.9464 - val_loss: 3.7199 - val_accuracy: 0.6000\n",
            "Epoch 286/1000\n",
            "469/469 [==============================] - 7s 15ms/step - loss: 0.1536 - accuracy: 0.9491 - val_loss: 2.7024 - val_accuracy: 0.5333\n",
            "Epoch 287/1000\n",
            "469/469 [==============================] - 6s 14ms/step - loss: 0.1994 - accuracy: 0.9389 - val_loss: 2.7700 - val_accuracy: 0.6000\n",
            "Epoch 288/1000\n",
            "469/469 [==============================] - 7s 15ms/step - loss: 0.1201 - accuracy: 0.9632 - val_loss: 2.3005 - val_accuracy: 0.6000\n",
            "Epoch 289/1000\n",
            "469/469 [==============================] - 6s 13ms/step - loss: 0.1745 - accuracy: 0.9458 - val_loss: 2.5806 - val_accuracy: 0.6667\n",
            "Epoch 290/1000\n",
            "469/469 [==============================] - 7s 16ms/step - loss: 0.1242 - accuracy: 0.9605 - val_loss: 2.3136 - val_accuracy: 0.4667\n",
            "Epoch 291/1000\n",
            "469/469 [==============================] - 6s 14ms/step - loss: 0.2655 - accuracy: 0.9178 - val_loss: 2.3280 - val_accuracy: 0.6667\n",
            "Epoch 292/1000\n",
            "469/469 [==============================] - 7s 16ms/step - loss: 0.1476 - accuracy: 0.9536 - val_loss: 2.0039 - val_accuracy: 0.6000\n",
            "Epoch 293/1000\n",
            "469/469 [==============================] - 6s 14ms/step - loss: 0.1546 - accuracy: 0.9525 - val_loss: 2.7432 - val_accuracy: 0.4000\n",
            "Epoch 294/1000\n",
            "469/469 [==============================] - 7s 15ms/step - loss: 0.1830 - accuracy: 0.9398 - val_loss: 2.4628 - val_accuracy: 0.5333\n",
            "Epoch 295/1000\n",
            "469/469 [==============================] - 6s 13ms/step - loss: 0.1483 - accuracy: 0.9544 - val_loss: 3.0197 - val_accuracy: 0.5333\n",
            "Epoch 296/1000\n",
            "469/469 [==============================] - 7s 15ms/step - loss: 0.1736 - accuracy: 0.9471 - val_loss: 3.3866 - val_accuracy: 0.5333\n",
            "Epoch 297/1000\n",
            "469/469 [==============================] - 6s 14ms/step - loss: 0.2131 - accuracy: 0.9323 - val_loss: 2.4537 - val_accuracy: 0.6000\n",
            "Epoch 298/1000\n",
            "469/469 [==============================] - 7s 15ms/step - loss: 0.1025 - accuracy: 0.9690 - val_loss: 2.8458 - val_accuracy: 0.4667\n",
            "Epoch 299/1000\n",
            "469/469 [==============================] - 7s 14ms/step - loss: 0.1733 - accuracy: 0.9496 - val_loss: 2.9476 - val_accuracy: 0.5333\n",
            "Epoch 300/1000\n",
            "469/469 [==============================] - 7s 15ms/step - loss: 0.2704 - accuracy: 0.9248 - val_loss: 3.3225 - val_accuracy: 0.5333\n",
            "Epoch 301/1000\n",
            "469/469 [==============================] - 7s 15ms/step - loss: 0.1250 - accuracy: 0.9605 - val_loss: 2.5566 - val_accuracy: 0.6667\n",
            "Epoch 302/1000\n",
            "469/469 [==============================] - 6s 14ms/step - loss: 0.0887 - accuracy: 0.9742 - val_loss: 2.7257 - val_accuracy: 0.6000\n",
            "Epoch 303/1000\n",
            "469/469 [==============================] - 7s 16ms/step - loss: 0.0886 - accuracy: 0.9745 - val_loss: 2.6052 - val_accuracy: 0.6000\n",
            "Epoch 304/1000\n",
            "469/469 [==============================] - 6s 14ms/step - loss: 0.2050 - accuracy: 0.9412 - val_loss: 2.7165 - val_accuracy: 0.5333\n",
            "Epoch 305/1000\n",
            "469/469 [==============================] - 7s 15ms/step - loss: 0.2081 - accuracy: 0.9387 - val_loss: 3.0857 - val_accuracy: 0.5333\n",
            "Epoch 306/1000\n",
            "469/469 [==============================] - 6s 14ms/step - loss: 0.1031 - accuracy: 0.9686 - val_loss: 3.4348 - val_accuracy: 0.5333\n",
            "Epoch 307/1000\n",
            "469/469 [==============================] - 7s 16ms/step - loss: 0.0825 - accuracy: 0.9763 - val_loss: 3.3983 - val_accuracy: 0.6667\n",
            "Epoch 308/1000\n",
            "469/469 [==============================] - 6s 14ms/step - loss: 0.2459 - accuracy: 0.9261 - val_loss: 2.6996 - val_accuracy: 0.6000\n",
            "Epoch 309/1000\n",
            "469/469 [==============================] - 7s 16ms/step - loss: 0.0915 - accuracy: 0.9733 - val_loss: 2.2767 - val_accuracy: 0.6667\n",
            "Epoch 310/1000\n",
            "469/469 [==============================] - 6s 14ms/step - loss: 0.2222 - accuracy: 0.9386 - val_loss: 5.8143 - val_accuracy: 0.3333\n",
            "Epoch 311/1000\n",
            "469/469 [==============================] - 7s 16ms/step - loss: 0.1532 - accuracy: 0.9562 - val_loss: 2.6344 - val_accuracy: 0.4667\n",
            "Epoch 312/1000\n",
            "469/469 [==============================] - 7s 15ms/step - loss: 0.0864 - accuracy: 0.9745 - val_loss: 2.9799 - val_accuracy: 0.5333\n",
            "Epoch 313/1000\n",
            "469/469 [==============================] - 7s 15ms/step - loss: 0.0666 - accuracy: 0.9825 - val_loss: 2.9979 - val_accuracy: 0.6000\n",
            "Epoch 314/1000\n",
            "469/469 [==============================] - 7s 15ms/step - loss: 0.0716 - accuracy: 0.9802 - val_loss: 4.3812 - val_accuracy: 0.4667\n",
            "Epoch 315/1000\n",
            "469/469 [==============================] - 7s 14ms/step - loss: 0.4276 - accuracy: 0.8726 - val_loss: 2.7243 - val_accuracy: 0.4667\n",
            "Epoch 316/1000\n",
            "469/469 [==============================] - 7s 16ms/step - loss: 0.0963 - accuracy: 0.9712 - val_loss: 2.5642 - val_accuracy: 0.6667\n",
            "Epoch 317/1000\n",
            "469/469 [==============================] - 6s 14ms/step - loss: 0.0679 - accuracy: 0.9829 - val_loss: 2.7584 - val_accuracy: 0.7333\n",
            "Epoch 318/1000\n",
            "469/469 [==============================] - 7s 16ms/step - loss: 0.0666 - accuracy: 0.9827 - val_loss: 2.5253 - val_accuracy: 0.6000\n",
            "Epoch 319/1000\n",
            "469/469 [==============================] - 6s 14ms/step - loss: 0.0639 - accuracy: 0.9833 - val_loss: 2.9323 - val_accuracy: 0.6000\n",
            "Epoch 320/1000\n",
            "469/469 [==============================] - 7s 16ms/step - loss: 0.2087 - accuracy: 0.9440 - val_loss: 3.2558 - val_accuracy: 0.5333\n",
            "Epoch 321/1000\n",
            "469/469 [==============================] - 7s 14ms/step - loss: 0.0735 - accuracy: 0.9800 - val_loss: 3.0085 - val_accuracy: 0.5333\n",
            "Epoch 322/1000\n",
            "469/469 [==============================] - 7s 16ms/step - loss: 0.0965 - accuracy: 0.9714 - val_loss: 2.5364 - val_accuracy: 0.6000\n",
            "Epoch 323/1000\n",
            "469/469 [==============================] - 6s 14ms/step - loss: 0.0598 - accuracy: 0.9846 - val_loss: 2.7346 - val_accuracy: 0.6000\n",
            "Epoch 324/1000\n",
            "469/469 [==============================] - 7s 16ms/step - loss: 0.0617 - accuracy: 0.9834 - val_loss: 2.7164 - val_accuracy: 0.6000\n",
            "Epoch 325/1000\n",
            "469/469 [==============================] - 7s 14ms/step - loss: 0.0606 - accuracy: 0.9835 - val_loss: 3.1243 - val_accuracy: 0.6000\n",
            "Epoch 326/1000\n",
            "469/469 [==============================] - 7s 15ms/step - loss: 0.0491 - accuracy: 0.9884 - val_loss: 3.1301 - val_accuracy: 0.6000\n",
            "Epoch 327/1000\n",
            "469/469 [==============================] - 7s 15ms/step - loss: 0.4745 - accuracy: 0.8711 - val_loss: 3.2599 - val_accuracy: 0.5333\n",
            "Epoch 328/1000\n",
            "469/469 [==============================] - 7s 14ms/step - loss: 0.1399 - accuracy: 0.9545 - val_loss: 3.3345 - val_accuracy: 0.6000\n",
            "Epoch 329/1000\n",
            "469/469 [==============================] - 7s 16ms/step - loss: 0.0730 - accuracy: 0.9794 - val_loss: 2.8444 - val_accuracy: 0.6667\n",
            "Epoch 330/1000\n",
            "469/469 [==============================] - 7s 14ms/step - loss: 0.0557 - accuracy: 0.9865 - val_loss: 2.7596 - val_accuracy: 0.6667\n",
            "Epoch 331/1000\n",
            "469/469 [==============================] - 7s 16ms/step - loss: 0.0484 - accuracy: 0.9887 - val_loss: 2.5193 - val_accuracy: 0.6667\n",
            "Epoch 332/1000\n",
            "469/469 [==============================] - 6s 14ms/step - loss: 0.0468 - accuracy: 0.9891 - val_loss: 2.6465 - val_accuracy: 0.6000\n",
            "Epoch 333/1000\n",
            "469/469 [==============================] - 7s 16ms/step - loss: 0.1817 - accuracy: 0.9486 - val_loss: 2.4145 - val_accuracy: 0.6000\n",
            "Epoch 334/1000\n",
            "469/469 [==============================] - 6s 14ms/step - loss: 0.0534 - accuracy: 0.9868 - val_loss: 2.6024 - val_accuracy: 0.6667\n",
            "Epoch 335/1000\n",
            "469/469 [==============================] - 7s 16ms/step - loss: 0.0463 - accuracy: 0.9886 - val_loss: 3.0229 - val_accuracy: 0.6000\n",
            "Epoch 336/1000\n",
            "469/469 [==============================] - 6s 14ms/step - loss: 0.0388 - accuracy: 0.9919 - val_loss: 2.9088 - val_accuracy: 0.6000\n",
            "Epoch 337/1000\n",
            "469/469 [==============================] - 7s 16ms/step - loss: 0.0411 - accuracy: 0.9908 - val_loss: 3.4717 - val_accuracy: 0.5333\n",
            "Epoch 338/1000\n",
            "469/469 [==============================] - 7s 14ms/step - loss: 0.2574 - accuracy: 0.9335 - val_loss: 3.0812 - val_accuracy: 0.5333\n",
            "Epoch 339/1000\n",
            "469/469 [==============================] - 7s 16ms/step - loss: 0.3284 - accuracy: 0.9003 - val_loss: 2.1982 - val_accuracy: 0.6667\n",
            "Epoch 340/1000\n",
            "469/469 [==============================] - 7s 15ms/step - loss: 0.1642 - accuracy: 0.9513 - val_loss: 3.2192 - val_accuracy: 0.6000\n",
            "Epoch 341/1000\n",
            "469/469 [==============================] - 7s 14ms/step - loss: 0.0498 - accuracy: 0.9882 - val_loss: 2.8099 - val_accuracy: 0.6667\n",
            "Epoch 342/1000\n",
            "469/469 [==============================] - 7s 16ms/step - loss: 0.0423 - accuracy: 0.9907 - val_loss: 2.7022 - val_accuracy: 0.6000\n",
            "Epoch 343/1000\n",
            "469/469 [==============================] - 7s 14ms/step - loss: 0.0409 - accuracy: 0.9908 - val_loss: 2.6563 - val_accuracy: 0.6667\n",
            "Epoch 344/1000\n",
            "469/469 [==============================] - 7s 16ms/step - loss: 0.0376 - accuracy: 0.9923 - val_loss: 3.6744 - val_accuracy: 0.5333\n",
            "Epoch 345/1000\n",
            "469/469 [==============================] - 6s 14ms/step - loss: 0.0363 - accuracy: 0.9926 - val_loss: 2.8515 - val_accuracy: 0.6000\n",
            "Epoch 346/1000\n",
            "469/469 [==============================] - 7s 16ms/step - loss: 0.0341 - accuracy: 0.9931 - val_loss: 3.0825 - val_accuracy: 0.6667\n",
            "Epoch 347/1000\n",
            "469/469 [==============================] - 6s 14ms/step - loss: 0.0331 - accuracy: 0.9933 - val_loss: 3.1096 - val_accuracy: 0.6667\n",
            "Epoch 348/1000\n",
            "469/469 [==============================] - 7s 16ms/step - loss: 0.0349 - accuracy: 0.9924 - val_loss: 3.7369 - val_accuracy: 0.5333\n",
            "Epoch 349/1000\n",
            "469/469 [==============================] - 7s 14ms/step - loss: 0.1018 - accuracy: 0.9804 - val_loss: 4.5779 - val_accuracy: 0.6000\n",
            "Epoch 350/1000\n",
            "469/469 [==============================] - 7s 16ms/step - loss: 0.4850 - accuracy: 0.8556 - val_loss: 2.3152 - val_accuracy: 0.4667\n",
            "Epoch 351/1000\n",
            "469/469 [==============================] - 7s 15ms/step - loss: 0.2055 - accuracy: 0.9322 - val_loss: 2.6787 - val_accuracy: 0.6000\n",
            "Epoch 352/1000\n",
            "469/469 [==============================] - 7s 15ms/step - loss: 0.0572 - accuracy: 0.9855 - val_loss: 2.6325 - val_accuracy: 0.5333\n",
            "Epoch 353/1000\n",
            "469/469 [==============================] - 7s 16ms/step - loss: 0.0371 - accuracy: 0.9925 - val_loss: 3.0392 - val_accuracy: 0.6000\n",
            "Epoch 354/1000\n",
            "469/469 [==============================] - 7s 14ms/step - loss: 0.0329 - accuracy: 0.9939 - val_loss: 2.7720 - val_accuracy: 0.6000\n",
            "Epoch 355/1000\n",
            "469/469 [==============================] - 7s 16ms/step - loss: 0.0335 - accuracy: 0.9931 - val_loss: 2.6515 - val_accuracy: 0.6000\n",
            "Epoch 356/1000\n",
            "469/469 [==============================] - 7s 14ms/step - loss: 0.0303 - accuracy: 0.9941 - val_loss: 2.9722 - val_accuracy: 0.6000\n",
            "Epoch 357/1000\n",
            "469/469 [==============================] - 7s 16ms/step - loss: 0.0275 - accuracy: 0.9949 - val_loss: 2.8634 - val_accuracy: 0.6667\n",
            "Epoch 358/1000\n",
            "469/469 [==============================] - 6s 14ms/step - loss: 0.0254 - accuracy: 0.9957 - val_loss: 3.2688 - val_accuracy: 0.6000\n",
            "Epoch 359/1000\n",
            "469/469 [==============================] - 7s 16ms/step - loss: 0.0260 - accuracy: 0.9957 - val_loss: 3.1165 - val_accuracy: 0.7333\n",
            "Epoch 360/1000\n",
            "469/469 [==============================] - 6s 14ms/step - loss: 0.0242 - accuracy: 0.9958 - val_loss: 2.9867 - val_accuracy: 0.6000\n",
            "Epoch 361/1000\n",
            "469/469 [==============================] - 7s 16ms/step - loss: 0.0245 - accuracy: 0.9957 - val_loss: 3.0364 - val_accuracy: 0.6000\n",
            "Epoch 362/1000\n",
            "469/469 [==============================] - 7s 15ms/step - loss: 0.0227 - accuracy: 0.9962 - val_loss: 3.1361 - val_accuracy: 0.6667\n",
            "Epoch 363/1000\n",
            "469/469 [==============================] - 7s 16ms/step - loss: 0.0228 - accuracy: 0.9961 - val_loss: 2.9323 - val_accuracy: 0.5333\n",
            "Epoch 364/1000\n",
            "469/469 [==============================] - 7s 16ms/step - loss: 0.0210 - accuracy: 0.9967 - val_loss: 3.1431 - val_accuracy: 0.7333\n",
            "Epoch 365/1000\n",
            "469/469 [==============================] - 7s 15ms/step - loss: 0.0191 - accuracy: 0.9974 - val_loss: 3.4498 - val_accuracy: 0.6667\n",
            "Epoch 366/1000\n",
            "469/469 [==============================] - 7s 16ms/step - loss: 0.0200 - accuracy: 0.9968 - val_loss: 3.1169 - val_accuracy: 0.6000\n",
            "Epoch 367/1000\n",
            "469/469 [==============================] - 7s 14ms/step - loss: 0.0194 - accuracy: 0.9972 - val_loss: 3.0207 - val_accuracy: 0.7333\n",
            "Epoch 368/1000\n",
            "469/469 [==============================] - 7s 16ms/step - loss: 0.7519 - accuracy: 0.8050 - val_loss: 1.6639 - val_accuracy: 0.6000\n",
            "Epoch 369/1000\n",
            "469/469 [==============================] - 7s 14ms/step - loss: 0.3873 - accuracy: 0.8745 - val_loss: 2.8856 - val_accuracy: 0.6667\n",
            "Epoch 370/1000\n",
            "469/469 [==============================] - 8s 16ms/step - loss: 0.2672 - accuracy: 0.9117 - val_loss: 4.7850 - val_accuracy: 0.4667\n",
            "Epoch 371/1000\n",
            "469/469 [==============================] - 7s 14ms/step - loss: 0.1099 - accuracy: 0.9677 - val_loss: 3.0849 - val_accuracy: 0.6000\n",
            "Epoch 372/1000\n",
            "469/469 [==============================] - 7s 16ms/step - loss: 0.0450 - accuracy: 0.9907 - val_loss: 2.0714 - val_accuracy: 0.6667\n",
            "Epoch 373/1000\n",
            "469/469 [==============================] - 7s 14ms/step - loss: 0.0338 - accuracy: 0.9940 - val_loss: 3.2521 - val_accuracy: 0.6667\n",
            "Epoch 374/1000\n",
            "469/469 [==============================] - 7s 16ms/step - loss: 0.0308 - accuracy: 0.9939 - val_loss: 3.5118 - val_accuracy: 0.6000\n",
            "Epoch 375/1000\n",
            "469/469 [==============================] - 7s 15ms/step - loss: 0.0282 - accuracy: 0.9950 - val_loss: 3.4884 - val_accuracy: 0.6000\n"
          ]
        }
      ]
    },
    {
      "cell_type": "code",
      "source": [
        "y_train_hat_probs = model.predict(x_train_1, verbose=0)\n",
        "y_train_hat_classes = np.argmax(y_train_hat_probs, axis=1)\n"
      ],
      "metadata": {
        "id": "9qdVtij15t1I"
      },
      "execution_count": 17,
      "outputs": []
    },
    {
      "cell_type": "code",
      "source": [
        "y_test_hat_probs = model.predict(X_test, verbose=0)\n",
        "y_test_hat_classes = np.argmax(y_test_hat_probs,axis=1)\n"
      ],
      "metadata": {
        "id": "tcvg-KIv6Vbe"
      },
      "execution_count": 18,
      "outputs": []
    },
    {
      "cell_type": "code",
      "source": [
        "y_validation_hat_probs = model.predict(x_validation, verbose=0)\n",
        "y_validation_hat_classes = np.argmax(y_validation_hat_probs, axis=1)\n"
      ],
      "metadata": {
        "id": "-S2WeTz26VY1"
      },
      "execution_count": 19,
      "outputs": []
    },
    {
      "cell_type": "markdown",
      "source": [
        "## evaluate model"
      ],
      "metadata": {
        "id": "4tyUUMHz6Y54"
      }
    },
    {
      "cell_type": "code",
      "source": [
        "y_train_for_peredct_=[]\n",
        "for i in range(len(y_train_for_peredct)):\n",
        "    y_train_for_peredct_.append(y_train_for_peredct[i][0])\n",
        "\n",
        "y_test_for_peredct_ = []\n",
        "for i in range(len(y_test_for_peredct)):\n",
        "    y_test_for_peredct_.append(y_test_for_peredct[i][0])\n",
        "\n",
        "y_validation_perd_ = []\n",
        "for i in range(len(y_validation_perd)):\n",
        "  y_validation_perd_.append(y_validation_perd[i][0])"
      ],
      "metadata": {
        "id": "Nt73mNjY6VWO"
      },
      "execution_count": 20,
      "outputs": []
    },
    {
      "cell_type": "code",
      "source": [
        "# accuracy\n",
        "accuracy_test = accuracy_score(y_test_for_peredct_, y_test_hat_classes)\n",
        "accuracy_validation = accuracy_score(y_validation_perd_, y_validation_hat_classes)\n",
        "\n",
        "print('Accuracy test : %f' % accuracy_test)\n",
        "print('Accuracy validation : %f' % accuracy_validation)\n"
      ],
      "metadata": {
        "colab": {
          "base_uri": "https://localhost:8080/"
        },
        "id": "vbElP5qT6VTq",
        "outputId": "afbcec7e-7f89-48ef-db4f-214cf3e669bc"
      },
      "execution_count": 25,
      "outputs": [
        {
          "output_type": "stream",
          "name": "stdout",
          "text": [
            "Accuracy test : 0.400000\n",
            "Accuracy validation : 0.266667\n"
          ]
        }
      ]
    },
    {
      "cell_type": "code",
      "source": [
        "f1_test = f1_score(y_test_for_peredct_, y_test_hat_classes, average='micro')\n",
        "f1_validation = f1_score(y_validation_perd_, y_validation_hat_classes, average='micro')\n",
        "\n",
        "print('F1 score test : %f' % f1_test)\n",
        "print('F1 score validation : %f' % f1_validation)\n"
      ],
      "metadata": {
        "colab": {
          "base_uri": "https://localhost:8080/"
        },
        "id": "ieLcnApT6VRS",
        "outputId": "c38b007f-5749-4378-a1be-39b908b42006"
      },
      "execution_count": 26,
      "outputs": [
        {
          "output_type": "stream",
          "name": "stdout",
          "text": [
            "F1 score test : 0.400000\n",
            "F1 score validation : 0.266667\n"
          ]
        }
      ]
    },
    {
      "cell_type": "code",
      "source": [],
      "metadata": {
        "id": "2NDrEd-S6VJu"
      },
      "execution_count": null,
      "outputs": []
    }
  ]
}